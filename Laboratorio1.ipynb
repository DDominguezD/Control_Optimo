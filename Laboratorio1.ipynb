{
 "cells": [
  {
   "cell_type": "markdown",
   "metadata": {},
   "source": [
    "*Universidad de Chile*  \n",
    "*Facultad de Ciencias Físicas y Matemáticas*  \n",
    "*Departamento de Ingeniería Matemática*\n",
    " \n",
    "# Laboratorio 1\n",
    "**Curso:** MA4703-1 Control Óptimo: Teoría y Laboratorio  \n",
    "**Profesor:** Héctor Ramírez C.  \n",
    "**Auxiliares:** Javier Madariaga R. y Pablo Araya Z.   \n",
    "**Alumno:** Diego Dominguez"
   ]
  },
  {
   "cell_type": "code",
   "execution_count": 1,
   "metadata": {},
   "outputs": [],
   "source": [
    "from sympy import *\n",
    "from scipy.integrate import solve_ivp\n",
    "import numpy as np\n",
    "import matplotlib.pyplot as plt\n",
    "from scipy.optimize import linprog, minimize, fsolve\n",
    "import pyplane.app as pp\n",
    "import pandas as pd\n",
    "from IPython import display\n"
   ]
  },
  {
   "cell_type": "markdown",
   "metadata": {},
   "source": [
    "## Ejercicio 1"
   ]
  },
  {
   "cell_type": "markdown",
   "metadata": {},
   "source": [
    "En esta pregunta se quiere resolver el siguiente sistema de ecuaciones diferenciales no lineal:\n",
    "\n",
    "\\begin{align}\n",
    "&\\dot{x}=2x - xy \\\\\n",
    "&\\dot{y}=-y+cos(y)\\\\\n",
    "&x(0)=1\\\\\n",
    "&y(0)=5\n",
    "\\end{align}"
   ]
  },
  {
   "cell_type": "markdown",
   "metadata": {},
   "source": [
    "## a)"
   ]
  },
  {
   "cell_type": "code",
   "execution_count": 2,
   "metadata": {},
   "outputs": [],
   "source": [
    "t = symbols('t')\n",
    "x = Function('x')\n",
    "y = Function('y')\n",
    "eq1=Eq(diff(x(t),t),2*x(t)-x(t)*y(t))\n",
    "eq2=Eq(diff(y(t),t),-y(t)+cos(y(t)))\n",
    "sol = dsolve([eq1,eq2],[x(t),y(t)])\n",
    "\n",
    "x_t=sol[0].rhs\n",
    "y_t=sol[1].rhs"
   ]
  },
  {
   "cell_type": "code",
   "execution_count": 3,
   "metadata": {},
   "outputs": [
    {
     "name": "stdout",
     "output_type": "stream",
     "text": [
      "exp(-C1 + exp(-C2 - t) + 2)\n"
     ]
    },
    {
     "data": {
      "text/latex": [
       "$\\displaystyle e^{- C_{1} + e^{- C_{2} - t} + 2}$"
      ],
      "text/plain": [
       "exp(-C1 + exp(-C2 - t) + 2)"
      ]
     },
     "execution_count": 3,
     "metadata": {},
     "output_type": "execute_result"
    }
   ],
   "source": [
    "print(x_t)\n",
    "x_t"
   ]
  },
  {
   "cell_type": "code",
   "execution_count": 4,
   "metadata": {},
   "outputs": [
    {
     "data": {
      "text/latex": [
       "$\\displaystyle C_{1} + \\log{\\left(e^{- C_{1} + e^{- C_{2} - t} + 2} \\right)}$"
      ],
      "text/plain": [
       "C1 + log(exp(-C1 + exp(-C2 - t) + 2))"
      ]
     },
     "execution_count": 4,
     "metadata": {},
     "output_type": "execute_result"
    }
   ],
   "source": [
    "y_t"
   ]
  },
  {
   "cell_type": "markdown",
   "metadata": {},
   "source": [
    "## b)"
   ]
  },
  {
   "cell_type": "code",
   "execution_count": 5,
   "metadata": {},
   "outputs": [],
   "source": [
    "def sistema1(t, z, c):\n",
    "    x=z[0]\n",
    "    y=z[1]\n",
    "    dzdt = [c[0]*x-x*y, -y+np.cos(y)] #Sistema de ecuaciones\n",
    "    return dzdt\n",
    "\n",
    "#Parametros\n",
    "tspan = np.linspace(0, 5, 100)\n",
    "z_0 = [1, 5]\n",
    "cte = [2]\n",
    "\n",
    "sol_scipy = solve_ivp(lambda t, z: sistema1(t, z, cte), t_span=[tspan[0], tspan[-1]], y0=z_0, rtol = 1e-10)"
   ]
  },
  {
   "cell_type": "code",
   "execution_count": 6,
   "metadata": {},
   "outputs": [
    {
     "data": {
      "image/png": "[encoded data removed]",
      "text/plain": [
       "<Figure size 1080x432 with 2 Axes>"
      ]
     },
     "metadata": {
      "needs_background": "light"
     },
     "output_type": "display_data"
    }
   ],
   "source": [
    "fig, axes = plt.subplots(1, 2, figsize=(15,6))\n",
    "\n",
    "axes[0].set_title('Solución x(t) encontrada')\n",
    "axes[0].plot(sol_scipy.t,sol_scipy.y[0])\n",
    "axes[0].set_xlabel('Tiempo')\n",
    "axes[0].set_ylabel('Valor de x(t)')\n",
    "\n",
    "axes[1].set_title('Solución y(t) encontrada')\n",
    "axes[1].plot(sol_scipy.t,sol_scipy.y[1])\n",
    "axes[1].set_xlabel('Tiempo')\n",
    "axes[1].set_ylabel('Valor de y(t)');"
   ]
  },
  {
   "cell_type": "markdown",
   "metadata": {},
   "source": [
    "## c)\n",
    "\n",
    "Diagrama de fase para condición incial $x_0 = 1$, $y_0 = 5$.\n",
    "\n",
    "<img src=\"cb1.png\" style=\"width:900px;height:300px\"/>\n",
    "\n",
    "\n",
    "Diagrama de fase para distintas condiciones iniciales.\n",
    "\n",
    "<img src=\"ej1_2_pp.png\" style=\"width:400px;height:400px\"/>"
   ]
  },
  {
   "cell_type": "markdown",
   "metadata": {},
   "source": [
    "Con las soluciones encontradas por sympy, se tiene que $y(t)=C_1+log(exp(-C_1+e^{-C_2-t}+2))=C_1+log(e^{-C_1})+log(exp(e^{-C_2-t}))+log(e^2)$\n",
    "$=C_1-C_1+e^{-C_2-t}+2=e^{-C_2-t}+2$.\n",
    "\n",
    "Reemplazando este función en la ecuación $\\dot{y}=-y+cos(y)$, se obtiene que:\n",
    "\n",
    "\\begin{align}\n",
    "-e^{-C_2-t}=-e^{-C_2-t}-2+cos(y) \\Longrightarrow cos(y)=2\n",
    "\\end{align}\n",
    "\n",
    "Lo cuál no tiene sentido si la función y(t) va a valores reales. Por lo tanto, se infiere que sympy no pudo solucionar adecuadamente este sistema.\n",
    "\n",
    "Por otro lado, los resultados obtenidos por solve_ivp de scipy se asemejan más a los diagramas de fase que nos entregó pyplane, por lo tanto se puede conlcuir que es recomendable usar sicpy para resolver sistemas de ecuaciones diferenciales. "
   ]
  },
  {
   "cell_type": "markdown",
   "metadata": {},
   "source": [
    "## Ejercicio 2"
   ]
  },
  {
   "cell_type": "markdown",
   "metadata": {},
   "source": [
    "A continuación se considera el siguiente sistema de control en $\\mathbb{R}^2$.\n",
    "\n",
    "\\begin{align}\n",
    "\\dot{X} (t) = AX(t)+Bu(t) ~~ \\text{ con } ~~ A=\\begin{pmatrix}2 & 2 \\\\-5 & 3 \\end{pmatrix}, ~~ B = \\begin{pmatrix}5\\\\1  \\end{pmatrix}\n",
    "\\end{align}\n",
    "\n",
    "con las siguientes condiciones iniciales $X_0=(0,0)$.\n",
    "\n",
    "Considerando $X= (x, y)$, este sistema se puede reescribir de la siguiente manera:\n",
    "\n",
    "\\begin{align}\\begin{cases} \\dot{x} = 2x + 2y + 5u \\\\\n",
    "\\dot{y} = -5x+3y+u\n",
    "\\end{cases}\n",
    "\\end{align}\n",
    "\n",
    "A continuación se resuelve el sistema para los controles: $u_1 (t) = 0.2$, $u_2 (t) = e^t$ y $u_3 (t) = e^{-t}cos(t)$."
   ]
  },
  {
   "cell_type": "code",
   "execution_count": 7,
   "metadata": {},
   "outputs": [],
   "source": [
    "def sistema2(t, z, c, u):\n",
    "    x=z[0]\n",
    "    y=z[1]\n",
    "    dzdt = [c[0]*x+c[1]*y+c[2]*u(t), c[3]*x+c[4]*y+u(t)]\n",
    "    return dzdt\n",
    "\n",
    "tspan = np.linspace(0, 10, 100)\n",
    "z_0 = [0, 0]\n",
    "cte = [2,2,5,-5,3]\n",
    "\n",
    "u1=lambda t: 0.2\n",
    "u2=lambda t: np.exp(t)\n",
    "u3=lambda t: np.exp(-t)*np.cos(t)\n",
    "\n",
    "sol1 = solve_ivp(lambda t, z: sistema2(t, z, cte, u1), t_span=[tspan[0], tspan[-1]], y0=z_0, rtol = 1e-10)\n",
    "sol2 = solve_ivp(lambda t, z: sistema2(t, z, cte, u2), t_span=[tspan[0], tspan[-1]], y0=z_0, rtol = 1e-10)\n",
    "sol3 = solve_ivp(lambda t, z: sistema2(t, z, cte, u3), t_span=[tspan[0], tspan[-1]], y0=z_0, rtol = 1e-10)"
   ]
  },
  {
   "cell_type": "code",
   "execution_count": 8,
   "metadata": {},
   "outputs": [
    {
     "data": {
      "image/png": "[encoded data removed]",
      "text/plain": [
       "<Figure size 504x504 with 1 Axes>"
      ]
     },
     "metadata": {
      "needs_background": "light"
     },
     "output_type": "display_data"
    }
   ],
   "source": [
    "plt.figure(figsize=(7,7))\n",
    "plt.plot(sol1.y[0],sol1.y[1], label=r'con $u(t)=0.2$')\n",
    "plt.plot(sol2.y[0],sol2.y[1], label=r'con $u(t)=e^t$')\n",
    "plt.plot(sol3.y[0],sol3.y[1], label=r'con $u(t)=e^{-t}cos(t)$')\n",
    "plt.legend()\n",
    "plt.xlabel('Valores de x(t)')\n",
    "plt.ylabel('Valores de y(t)')\n",
    "plt.title('Soluciones encontradas para cada control');"
   ]
  },
  {
   "cell_type": "markdown",
   "metadata": {},
   "source": [
    "## Ejercicio 3"
   ]
  },
  {
   "cell_type": "markdown",
   "metadata": {},
   "source": [
    "\\begin{align}\n",
    "&\\!\\min_{x, y, z}   f(x,y,z) = -8x-y-3z \\label{eq:optProb}\\\\\n",
    "&\\text{s.a.}  ~~ -x+y+z \\leq 13\\label{eq:constraint1}\\\\\n",
    "&             ~~~~~~~~ 3x+5y+z \\leq 10\\label{eq:constraint2}\\\\\n",
    "&             ~~~~~~~~ 9x-5y \\leq 20\\label{eq:constraint3}\\\\\n",
    "&             ~~~~~~~~ x,y,z \\geq 0\n",
    "\\end{align}"
   ]
  },
  {
   "cell_type": "code",
   "execution_count": 9,
   "metadata": {},
   "outputs": [
    {
     "name": "stdout",
     "output_type": "stream",
     "text": [
      "Solución con el método highs: [2.5 0.5 0. ]\n",
      "Solución con el método highs-ds: [2.5 0.5 0. ]\n",
      "Solución con el método highs-ipm: [2.5 0.5 0. ]\n",
      "Solución con el método interior-point: [2.50000000e+00 5.00000000e-01 8.59215039e-10]\n",
      "Solución con el método revised simplex: [2.5 0.5 0. ]\n",
      "Solución con el método simplex: [2.5 0.5 0. ]\n"
     ]
    }
   ],
   "source": [
    "c = [-8, -1, -3]\n",
    "A = [[-1, 1, 1], [3, 5, 5], [9, -5, 0]]\n",
    "b = [13, 10, 20]\n",
    "x_bounds = (0, None)\n",
    "y_bounds = (0, None)\n",
    "z_bounds = (0, None)\n",
    "\n",
    "metodos=['highs','highs-ds','highs-ipm','interior-point','revised simplex','simplex']\n",
    "for metodo in metodos:\n",
    "    res = linprog(c, A_ub=A, b_ub=b, bounds=[x_bounds, y_bounds, z_bounds], method=metodo)\n",
    "    print('Solución con el método '+str(metodo)+':', res.x)\n"
   ]
  },
  {
   "cell_type": "markdown",
   "metadata": {},
   "source": [
    "# Ejercicio 4"
   ]
  },
  {
   "cell_type": "markdown",
   "metadata": {},
   "source": [
    "En este problema se quiere maximizar el volumen de un paquete postal con forma de paralelepipedo rectangular. Además se requiere que el perimetro de la base de este paquete más su altura no exceda los 53 cm. \n",
    "\n",
    "Este problema se puede modelar de la siguiente manera:\n",
    "\n",
    "\\begin{align}\n",
    "&\\!\\min_{x, y, z}   -V(x,y,z) = -xyz \\label{eq:optProb}\\\\\n",
    "&\\text{s.a.}  ~~ 2x+2y+z \\leq 53\\label{eq:constraint1}\\\\\n",
    "&             ~~~~~~~~ x,y,z \\geq 0\n",
    "\\end{align}"
   ]
  },
  {
   "cell_type": "code",
   "execution_count": 10,
   "metadata": {},
   "outputs": [],
   "source": [
    "#Función que calcula el volumen\n",
    "def volumen(x):\n",
    "    largo=x[0]\n",
    "    ancho=x[1]\n",
    "    alto=x[2]\n",
    "    Volumen=largo*ancho*alto\n",
    "    return Volumen\n",
    "\n",
    "#Función para calcular el perimetro mas la altura\n",
    "def perimetroAltura(x):\n",
    "    largo=x[0]\n",
    "    ancho=x[1]\n",
    "    alto=x[2]\n",
    "    Perimetro=2*(largo+ancho)\n",
    "    return Perimetro+alto\n",
    "\n",
    "#Funcion objetivo: -Volumen\n",
    "def funcObjetivo(x):\n",
    "    return -volumen(x)\n",
    "\n",
    "#Restriccion del problema 53-2x-2y-z >= 0\n",
    "def restriccion(x):\n",
    "    return 53-perimetroAltura(x)"
   ]
  },
  {
   "cell_type": "code",
   "execution_count": 11,
   "metadata": {},
   "outputs": [],
   "source": [
    "x0=[1,1,1] #Punto inicial\n",
    "\n",
    "#Restricciones\n",
    "rest= [{'type': 'ineq', 'fun':restriccion}, {'type': 'ineq', 'fun': lambda x: x[0]}, {'type': 'ineq', 'fun': lambda x: x[1]},  {'type': 'ineq', 'fun': lambda x: x[2]}]\n",
    "\n",
    "#Se calcula la solución\n",
    "sol=minimize(funcObjetivo, x0, method='COBYLA', constraints=rest, tol=1e-5, options={'disp': True})"
   ]
  },
  {
   "cell_type": "code",
   "execution_count": 12,
   "metadata": {},
   "outputs": [
    {
     "name": "stdout",
     "output_type": "stream",
     "text": [
      "Solución:  [ 8.83332734  8.83334226 17.66666079]\n",
      "Volumen máximo:  1378.4907407396418\n",
      "Perimetro + Altura:  52.99999999999998\n"
     ]
    }
   ],
   "source": [
    "x_Opt=sol.x\n",
    "volumen_Opt=-sol.fun\n",
    "perimetro_alt=perimetroAltura(x_Opt)\n",
    "\n",
    "print('Solución: ', x_Opt)\n",
    "print('Volumen máximo: ', volumen_Opt)\n",
    "print('Perimetro + Altura: ', perimetro_alt)"
   ]
  },
  {
   "cell_type": "markdown",
   "metadata": {},
   "source": [
    "## Ejercicio 5"
   ]
  },
  {
   "cell_type": "markdown",
   "metadata": {},
   "source": [
    "En este problema se busca obtener los puntos de intersección $(x,y)$ de las siguientes cónicas:\n",
    "\n",
    "\\begin{align}\\begin{cases} 2x^2 +y =1 \\\\\n",
    "(x - \\frac{1}{2})^2 - 2(y - \\frac{1}{4})^2 = 1\n",
    "\\end{cases}\n",
    "\\end{align}\n",
    "\n",
    "Para encontrar la solución, el sistema se plantea de la siguiente forma:\n",
    "\n",
    "\\begin{align}\\begin{cases} Eq_1: ~ 2x^2 +y - 1 = 0\\\\\n",
    "Eq_2: ~ (x - \\frac{1}{2})^2 - 2(y - \\frac{1}{4})^2 - 1 = 0\n",
    "\\end{cases}\n",
    "\\end{align}"
   ]
  },
  {
   "cell_type": "code",
   "execution_count": 13,
   "metadata": {},
   "outputs": [],
   "source": [
    "def ejercicio5(x):\n",
    "    Eq1=2*x[0]**2+x[1]-1\n",
    "    Eq2=(x[0]-0.5)**2-2*(x[1]-1/4)**2-1\n",
    "    return [Eq1, Eq2]\n",
    "\n",
    "f1=lambda x: 1-2*x**2 #Eq1: y=1-2x^2"
   ]
  },
  {
   "cell_type": "code",
   "execution_count": 14,
   "metadata": {},
   "outputs": [
    {
     "data": {
      "text/html": [
       "<div>\n",
       "<style scoped>\n",
       "    .dataframe tbody tr th:only-of-type {\n",
       "        vertical-align: middle;\n",
       "    }\n",
       "\n",
       "    .dataframe tbody tr th {\n",
       "        vertical-align: top;\n",
       "    }\n",
       "\n",
       "    .dataframe thead th {\n",
       "        text-align: right;\n",
       "    }\n",
       "</style>\n",
       "<table border=\"1\" class=\"dataframe\">\n",
       "  <thead>\n",
       "    <tr style=\"text-align: right;\">\n",
       "      <th></th>\n",
       "      <th>intersecciones</th>\n",
       "      <th>valores del sistema</th>\n",
       "    </tr>\n",
       "  </thead>\n",
       "  <tbody>\n",
       "    <tr>\n",
       "      <th>0</th>\n",
       "      <td>[-0.827, -0.366]</td>\n",
       "      <td>[4.929390229335695e-14, 7.72715225139109e-14]</td>\n",
       "    </tr>\n",
       "    <tr>\n",
       "      <th>1</th>\n",
       "      <td>[-0.533, 0.432]</td>\n",
       "      <td>[3.801403636316536e-13, 1.1888268147686176e-12]</td>\n",
       "    </tr>\n",
       "  </tbody>\n",
       "</table>\n",
       "</div>"
      ],
      "text/plain": [
       "     intersecciones                              valores del sistema\n",
       "0  [-0.827, -0.366]    [4.929390229335695e-14, 7.72715225139109e-14]\n",
       "1   [-0.533, 0.432]  [3.801403636316536e-13, 1.1888268147686176e-12]"
      ]
     },
     "execution_count": 14,
     "metadata": {},
     "output_type": "execute_result"
    }
   ],
   "source": [
    "intersec1=fsolve(ejercicio5, [-1,-1])\n",
    "intersec2=fsolve(ejercicio5, [0,0])\n",
    "\n",
    "pd.DataFrame({'intersecciones': [np.round(intersec1,3), np.round(intersec2,3)], 'valores del sistema': [ejercicio5(intersec1), ejercicio5(intersec2)]})"
   ]
  },
  {
   "cell_type": "code",
   "execution_count": 15,
   "metadata": {},
   "outputs": [
    {
     "data": {
      "image/png": "[encoded data removed]",
      "text/plain": [
       "<Figure size 432x288 with 1 Axes>"
      ]
     },
     "metadata": {
      "needs_background": "light"
     },
     "output_type": "display_data"
    }
   ],
   "source": [
    "#Plot ecuación 2\n",
    "x = np.linspace(-2.0, 2.0, 100)\n",
    "y = np.linspace(-2.0, 2.0, 100)\n",
    "X, Y = np.meshgrid(x,y)\n",
    "F = (X-0.5)**2 -2*(Y-0.25)**2 - 1\n",
    "plt.contour(X,Y,F,[0])\n",
    "\n",
    "#Plot ecuación 1\n",
    "plt.plot(x,f1(x))\n",
    "\n",
    "#Plot intersecciones\n",
    "plt.plot(intersec1[0],intersec1[1],'o',label=str(np.round(intersec1,3)))\n",
    "plt.plot(intersec2[0],intersec2[1],'o',c='red',label=str(np.round(intersec2,3)))\n",
    "\n",
    "plt.xlabel('Eje X')\n",
    "plt.ylabel('Eje Y')\n",
    "plt.title('Visualización de las cónicas')\n",
    "plt.ylim((-2,2))\n",
    "plt.legend()\n",
    "plt.show()"
   ]
  },
  {
   "cell_type": "markdown",
   "metadata": {},
   "source": [
    "De este problema se puede apreciar que el comando fsolve de scipy es muy sensible a los valores iniciales entregados, ya que solo entrega la solución más cercana al punto entregado. De hecho, si este valor es muy lejano a la solución, la función fsolve entrega un resultado bastante erroneo. Por este motivo, se tuvo que invocar a la función dos veces con dos puntos iniciales distintos. "
   ]
  },
  {
   "cell_type": "markdown",
   "metadata": {},
   "source": [
    "## Ejercicio 6"
   ]
  },
  {
   "cell_type": "markdown",
   "metadata": {},
   "source": [
    "En este problema se quiere modelar las reacciones químicas de tres componentes $A, B, C$. Considerando las variables de estado $a,b,c$ como las fracciones molares de $A, B, C$, las constantes de velocidad de las reacciones químicas como $k_1 , k_2 , k_3$, y $u(t) \\in [0,1]$ como la variable de control, el problema de control óptimo se puede modelar de la siguiente forma:\n",
    "\n",
    "\\begin{equation}\\label{eq:robust-optimization-2}\n",
    "    (G)\\begin{cases}\\begin{aligned}\n",
    "         & \\text{max}_{u(\\cdot )} & &c(t_f)& & \\\\\n",
    "         &  & & \\dot{a}(t) = -u(t)(k_1 a(t) - k_2 b(t)) & & a(0)=1  \\\\\n",
    "                    & & &\\dot{b}(t) = u(t)(k_1 a(t)-k_2 b(t))-(1-u(t))k_3 b(t) & & b(0)=0\\\\\n",
    "                    & & &\\dot{c}(t) = (1-u(t))k_3 b(t) && c(0)=1\\\\\n",
    "                    & & &u(t) \\in [0,1] ~~ \\forall t \\in [0, t_f]\\\\\n",
    "    \\end{aligned}\\end{cases}\n",
    "\\end{equation}"
   ]
  },
  {
   "cell_type": "markdown",
   "metadata": {},
   "source": [
    "## 1)\n",
    "\n",
    "Este problema se puede reescribir como un problema de control ótimo tipo Mayer, para esto se definen las siguiente variables:\n",
    "\n",
    "\\begin{align}\n",
    "y(t)=\\begin{pmatrix}a(t)\\\\b(t)\\\\c(t) \\end{pmatrix}\n",
    "\\Longrightarrow \\dot{y(t)}=\\begin{pmatrix}-u(t)(k_1 a(t) - k_2 b(t))\\\\u(t)(k_1 a(t)-k_2 b(t))-(1-u(t))k_3 b(t)\\\\(1-u(t))k_3 b(t) \\end{pmatrix}:= f(y(t), u(t)) ~~ \\forall t \\in [t_0, t_f]\n",
    "\\end{align}\n",
    "\n",
    "\\begin{align}\n",
    "J(t_0, y(t_0), t_f,y(t_f)) = (0,0,-1) \\cdot y(t_f) = -c(t_f), ~~~~~ \\Phi(t_0, y(t_0), t_f,y(t_f))=y(t_0)=\\begin{pmatrix}a(t_0)\\\\b(t_0)\\\\c(t_0) \\end{pmatrix}, ~~~~~ g(y(t), u(t)) \\equiv 0\n",
    "\\end{align}\n",
    "\n",
    "\\begin{align}y_l =-\\infty , ~ y_u=\\infty, ~~~~~ u_l=0, ~ u_u=1, ~~~~~ g_l=-\\infty, g_u=\\infty, ~~~~~\\Phi_l = \\Phi_u = \\begin{pmatrix}1\\\\0\\\\1 \\end{pmatrix}\\end{align}"
   ]
  },
  {
   "cell_type": "markdown",
   "metadata": {},
   "source": [
    "De esta manera, y considerando $t_0=0$, el sistema queda de la siguiente forma:\n",
    "\n",
    "\\begin{equation}\\label{eq:robust-optimization-2}\n",
    "    (M)\\begin{cases}\\begin{aligned}\n",
    "         & \\text{min}_{u(\\cdot )} & &J(t_0, y(t_0), t_f,y(t_f)) = (0,0,-1) \\cdot y(t_f)& & (Criterio) \\\\\n",
    "         &  & & \\dot{y}(t)= f(y(t), u(t)) & & (Dinámica) \\\\\n",
    "                    & & & \\Phi_l \\leq \\Phi(t_0, y(t_0), t_f,y(t_f))=y(t_0) \\leq \\Phi_u & & (Condicion ~de ~borde)\\\\\n",
    "                    & & &-\\infty \\leq y(t) \\leq \\infty, ~~~ 0 \\leq u(t) \\leq 1 ~~ \\forall t \\in [0, t_f]&& (Cotas) \\\\\n",
    "                    & & & -\\infty \\leq g(y(t),u(t)) \\leq \\infty ~~ \\forall t \\in [0, t_f] && (Restricciones ~mixtas)\\\\\n",
    "    \\end{aligned}\\end{cases}\n",
    "\\end{equation}"
   ]
  },
  {
   "cell_type": "markdown",
   "metadata": {},
   "source": [
    "# 2) \n",
    "\n",
    "En esta pregunta se añade una nueva condición de borde $a(t_f)$. A continución se muestran los resultados obtenidos para distintos tiempos finales y valores para $a(t_f)$.\n",
    "\n",
    "**Condición: $a(5)=0.7$** \n",
    "\n",
    "Valor objetivo obtenido: -1.25373\n",
    "\n",
    "<img src=\"ej6-p2_5-07.PNG\" style=\"width:600px;height:400px\"/>\n",
    "\n",
    "**Condición: $a(7)=0.7$**\n",
    "\n",
    "Valor objetivo obtenido: -1.28999\n",
    "\n",
    "<img src=\"ej6-p2_7-07.PNG\" style=\"width:600px;height:400px\"/>\n",
    "\n",
    "\n",
    "**Condición: $a(10)=0.7$**\n",
    "\n",
    "Valor objetivo obtenido: -1.2995\n",
    "\n",
    "<img src=\"ej6-p2_10-07.PNG\" style=\"width:600px;height:400px\"/>\n",
    "\n",
    "**Condición: $a(5)=0.9$**\n",
    "\n",
    "Valor objetivo obtenido: -1.09905\n",
    "\n",
    "<img src=\"ej6-p2_5-09.PNG\" style=\"width:600px;height:400px\"/>\n",
    "\n",
    "**Condición: $a(7)=0.9$**\n",
    "\n",
    "Valor objetivo obtenido: -1.09987\n",
    "\n",
    "<img src=\"ej6-p2_7-09.PNG\" style=\"width:600px;height:400px\"/>\n",
    "\n",
    "**Condición: $a(10)=0.9$**\n",
    "\n",
    "Valor objetivo obtenido: -1.09999\n",
    "\n",
    "<img src=\"ej6-p2_10-09.PNG\" style=\"width:600px;height:400px\"/>"
   ]
  },
  {
   "cell_type": "markdown",
   "metadata": {},
   "source": [
    "# 3)\n",
    "\n",
    "Ahora se pide añadir dos cotas inferiores para las variables $a$ y $c$ evaluadas en el tiempo final. Es decir, $0.8 \\leq a(t_f)$, $0.05 \\leq b(t_f)$\n",
    "\n",
    "**Cota inferior: $0.8 \\leq a(5)$, $~~0.05 \\leq b(5)$**\n",
    "\n",
    "Valor objetivo obtenido: -1.15\n",
    "\n",
    "<img src=\"ej6-p3_5.PNG\" style=\"width:600px;height:400px\"/>\n",
    "\n",
    "**Cota inferior: $0.8 \\leq a(7)$, $~~0.05 \\leq b(7)$**\n",
    "\n",
    "Valor objetivo obtenido: -1.15\n",
    "\n",
    "<img src=\"ej6-p3_7.PNG\" style=\"width:600px;height:400px\"/>\n",
    "\n",
    "**Cota inferior: $0.8 \\leq a(10)$, $~~0.05 \\leq b(10)$**\n",
    "\n",
    "Valor objetivo obtenido: -1.15\n",
    "\n",
    "<img src=\"ej6-p3_10.PNG\" style=\"width:600px;height:400px\"/>"
   ]
  },
  {
   "cell_type": "markdown",
   "metadata": {},
   "source": [
    "## Ejercicio 7\n",
    "\n",
    "## 1)\n",
    "\n",
    "Para esta pregunta se considera el siguiente problema de control óptimo:\n",
    "\n",
    "\\begin{equation}\n",
    "    (B) \\begin{cases}\\begin{aligned}\n",
    "         & \\text{min}_{u(\\cdot )} & & \\int_0^{t_f} u(t)^2 dt& & \\\\\n",
    "         &  & & y^{(3)} (t) =u(t) & &   \\\\\n",
    "                    & & & y(t) \\geq 0 & & \\\\\n",
    "                    & & & y(0)=1,~ \\dot{y}(0)=-2, ~ \\ddot{y}(0)=0&& \\\\\n",
    "                    & & & y(10)=0, ~ \\dot{y}(10)=0, ~ \\ddot{y}(10)=0 \\\\\n",
    "    \\end{aligned}\\end{cases}\n",
    "\\end{equation}\n",
    "\n",
    "El problema original que esta programado en el ejemplo robbibs, cuenta con una diferente función objetivo. Esta es de la forma $\\int_0^{t_f} \\alpha y + \\beta y^2 + \\gamma u^2 dt$.\n",
    "\n",
    "Para obtener el sistema $(B)$, basta considerar $\\alpha = \\beta = 0$ y $\\gamma = 1$. Luego se considera el siguiente cambio de variable:\n",
    "\n",
    "\\begin{align}\n",
    "Y=\\begin{pmatrix}y\\\\ \\dot{y} \\\\ \\ddot{y} \\\\ z \\end{pmatrix} \\Longrightarrow \\dot{Y}=\\begin{pmatrix} \\dot{y}\\\\ \\ddot{y} \\\\ \\dddot{y} \\\\ \\dot{z} \\end{pmatrix} = \\begin{pmatrix} \\dot{y}(t)\\\\ \\ddot{y}(t) \\\\ u(t) \\\\ \\dot{z}(t) \\end{pmatrix}  && (Dinamica)\n",
    "\\end{align}\n",
    "\n",
    "Con $z$ una nueva variable de estado con las siguientes condiciones de borde $z(t_f)=\\int_0^{t_f} u(t)^2 dt$, $z(0)=0$."
   ]
  },
  {
   "cell_type": "markdown",
   "metadata": {},
   "source": [
    "## 2)\n",
    "\n",
    "A continuación se definen las siguientes funciones y cotas:\n",
    "\n",
    "\\begin{align}\n",
    "J(t_0, Y(t_0), t_f,Y(t_f)) = (0,0,0,1) \\cdot Y(t_f)=z(t_f), ~~~~~ \\dot{Y}(t) = \\begin{pmatrix} \\dot{y}(t)\\\\ \\ddot{y}(t) \\\\ u(t) \\\\ \\dot{z}(t) \\end{pmatrix} = f(Y(t), u(t)), ~~~~~ g(Y(t),u(t))\\equiv 0\n",
    "\\end{align}\n",
    "\n",
    "\\begin{align}\n",
    "\\Phi(t_0, Y(t_0), t_f,Y(t_f)) = \\begin{pmatrix} Y(t_0) \\\\ Y(t_f) \\end{pmatrix} = \\begin{pmatrix} y(t_0) \\\\ \\dot{y}(t_0) \\\\ \\ddot{y}(t_0) \\\\ z(t_0) \\\\ y(t_f) \\\\ \\dot{y}(t_f) \\\\ \\ddot{y}(t_f) \\\\ z(t_f) \\end{pmatrix} \n",
    "\\end{align}\n",
    "\n",
    "\\begin{align}\n",
    "\\Phi_l = \\begin{pmatrix} 1 \\\\ -2 \\\\ 0\\\\ 0 \\end{pmatrix}, ~~ \\Phi_u= \\begin{pmatrix} 0\\\\ 0 \\\\ 0 \\\\ \\int_0^{t_f} u(t)^2 dt \\end{pmatrix}, ~~~~~ y_l=0, ~ y_u=\\infty, ~~~~~ g_l= -\\infty , ~ g_u=\\infty, ~~~~ u_l=-\\infty, u_u=\\infty\n",
    "\\end{align}"
   ]
  },
  {
   "cell_type": "markdown",
   "metadata": {},
   "source": [
    "Con estas variables introducidas y con $t_0=0, t_f=10$, el sistema $(B)$ se puede escrbir como un problema mayer $(M)$.\n",
    "\n",
    "\\begin{equation}\\label{eq:robust-optimization-2}\n",
    "    (M)\\begin{cases}\\begin{aligned}\n",
    "         & \\text{min}_{u(\\cdot )} & &J(t_0, Y(t_0), t_f,Y(t_f)) = (0,0,0,1) \\cdot Y(t_f)& & (Criterio) \\\\\n",
    "         &  & & \\dot{Y}(t) = f(Y(t), u(t)) & & (Dinámica) \\\\\n",
    "                    & & & \\phi_l \\leq \\phi(t_0, Y(t_0), t_f,Y(t_f))= \\begin{pmatrix} Y(t_0) \\\\ Y(t_f) \\end{pmatrix} \\leq \\phi_u & & (Condicion ~de ~borde)\\\\\n",
    "                    & & & 0 \\leq y(t) \\leq \\infty, ~~~ -\\infty \\leq u(t) \\leq \\infty ~~ \\forall t \\in [0, t_f]&& (Cotas) \\\\\n",
    "                    & & & -\\infty \\leq g(y(t),u(t)) \\leq \\infty ~~ \\forall t \\in [0, t_f] && (Restricciones ~mixtas)\\\\\n",
    "    \\end{aligned}\\end{cases}\n",
    "\\end{equation}"
   ]
  },
  {
   "cell_type": "markdown",
   "metadata": {},
   "source": [
    "## 3)\n",
    "\n",
    "A continuación se añade una nueva restricción a la variable $y(t)$ y otra condición de borde a $\\ddot{y}$. En los siguientes gráficos se muestran los resultados obtenidos al resolver $(M)$ agregando las restricciones $y(t) \\leq 1.5$, $\\ddot{y}(t_f)=3,5,7.$\n",
    "\n",
    "**Condición de borde: $\\ddot{y}(10)=3$** $~~$ *Obs: Para poder resolver este caso se cambio el valor de la cte. $k_1$ de $1$ a $1.1$*\n",
    "\n",
    "Valor objetivo obtenido: 44.3247\n",
    "\n",
    "<img src=\"ej7-p3_ddy_3.PNG\" style=\"width:700px;height:400px\"/>\n",
    "\n",
    "**Condición de borde: $\\ddot{y}(10)=5$**\n",
    "\n",
    "Valor objetivo obtenido: 79.0864\n",
    "\n",
    "<img src=\"ej7-p3_ddy_5.PNG\" style=\"width:700px;height:400px\"/>\n",
    "\n",
    "**Condición de borde: $\\ddot{y}(10)=7$**\n",
    "\n",
    "Valor objetivo obtenido: 142.377\n",
    "\n",
    "<img src=\"ej7-p3_ddy_7.PNG\" style=\"width:700px;height:400px\"/>"
   ]
  },
  {
   "cell_type": "markdown",
   "metadata": {},
   "source": [
    "## 4)\n",
    "\n",
    "En esta última pregunta se considera $\\alpha = 3$, de tal forma que la función objetivo queda como: $\\int_0^{t_f} 3 y + u^2 = 3\\int_0^{t_f} y(t) dt+ z(t_f)$.\n",
    "\n",
    "Repitiendo el procedimiento anterior, se consiguen los siguientes resultados:\n",
    "\n",
    "**Condición de borde: $\\ddot{y}(10)=3$**\n",
    "\n",
    "Valor objetivo obtenido: 60.8176\n",
    "\n",
    "<img src=\"ej7-p4_ddy_3.PNG\" style=\"width:700px;height:400px\"/>\n",
    "\n",
    "**Condición de borde: $\\ddot{y}(10)=5$**\n",
    "\n",
    "Valor objetivo obtenido: 96.1491\n",
    "\n",
    "<img src=\"ej7-p4_ddy_5.PNG\" style=\"width:700px;height:400px\"/>\n",
    "\n",
    "**Condición de borde: $\\ddot{y}(10)=7$**\n",
    "\n",
    "Valor objetivo obtenido: 158.041\n",
    "\n",
    "<img src=\"ej7-p4_ddy_7.PNG\" style=\"width:700px;height:400px\"/>"
   ]
  }
 ],
 "metadata": {
  "kernelspec": {
   "display_name": "Python 3 (ipykernel)",
   "language": "python",
   "name": "python3"
  },
  "language_info": {
   "codemirror_mode": {
    "name": "ipython",
    "version": 3
   },
   "file_extension": ".py",
   "mimetype": "text/x-python",
   "name": "python",
   "nbconvert_exporter": "python",
   "pygments_lexer": "ipython3",
   "version": "3.10.5"
  },
  "vscode": {
   "interpreter": {
    "hash": "341268af697f69dd1ffdcdac7af840419ecb88f390bc16e46c3586102df69d04"
   }
  }
 },
 "nbformat": 4,
 "nbformat_minor": 2
}
